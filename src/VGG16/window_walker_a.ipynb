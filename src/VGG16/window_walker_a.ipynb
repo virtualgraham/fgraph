{
 "cells": [
  {
   "cell_type": "code",
   "execution_count": 4,
   "metadata": {},
   "outputs": [],
   "source": [
    "stride = 16\n",
    "window_size = 32\n",
    "playback_random_walk_length = 10\n",
    "\n",
    "video_path = \"../../media/tabletop_objects/videos/288_brush_carrot_clippers_cup_flowers_hanger_ketchup.mp4\"\n",
    "db_path = \"../../data/test1.db\"\n",
    "patch_dir = \"../../patches/test1\""
   ]
  },
  {
   "cell_type": "markdown",
   "metadata": {},
   "source": [
    "# Build Graph"
   ]
  },
  {
   "cell_type": "code",
   "execution_count": null,
   "metadata": {},
   "outputs": [],
   "source": [
    "# from vgg16_window_walker_lib_b import build_graph\n",
    "# build_graph(db_path, video_path, patch_dir, stride=stride, window_size=window_size, max_frames=30*30)"
   ]
  },
  {
   "cell_type": "markdown",
   "metadata": {},
   "source": [
    "# Video Patch Browser"
   ]
  },
  {
   "cell_type": "code",
   "execution_count": 5,
   "metadata": {},
   "outputs": [],
   "source": [
    "%matplotlib widget\n",
    "import matplotlib.pyplot as plt\n",
    "\n",
    "from PIL import Image\n",
    "from IPython.display import display\n",
    "import ipywidgets as widgets\n",
    "from os.path import split\n",
    "import traceback\n",
    "import math\n",
    "import numpy as np\n",
    "import cv2\n",
    "\n",
    "from tensorflow.keras.applications import vgg16\n",
    "from tensorflow.keras.applications.vgg16 import preprocess_input\n",
    "\n",
    "# These imports need to be in a separate cell than the class or \"error src/tcmalloc.cc:332] Attempt to free invalid pointer\"\n",
    "from vgg16_window_walker_lib_c import resize_frame, key_point_grid, next_pos_play, extract_window, paint_windows, MemoryGraph"
   ]
  },
  {
   "cell_type": "code",
   "execution_count": 6,
   "metadata": {
    "collapsed": false,
    "jupyter": {
     "outputs_hidden": false
    }
   },
   "outputs": [],
   "source": [
    "class VideoPatchBrowser:\n",
    "    def __init__(self, video_path, db_path, patch_dir, out, ax1, ax2, playback_random_walk_length=10, stride=16, window_size=32):\n",
    "        self.video_path = video_path\n",
    "        self.patch_dir = patch_dir\n",
    "        self.out = out\n",
    "        self.stride = stride\n",
    "        self.window_size = window_size\n",
    "        self.orb = cv2.ORB_create(nfeatures=100000, fastThreshold=7)\n",
    "        self.memory_graph = MemoryGraph(db_path, space='cosine', dim=512)\n",
    "        self.model = vgg16.VGG16(weights=\"imagenet\", include_top=False, input_shape=(32, 32, 3))\n",
    "        self.cap = cv2.VideoCapture(video_path) \n",
    "        self.ax1 = ax1\n",
    "        self.ax2 = ax2\n",
    "        self.next_frame()\n",
    "\n",
    "\n",
    "    def on_press(self, event):\n",
    "        try:\n",
    "            with self.out:\n",
    "                print(\"on_press\")\n",
    "            self.next_frame()\n",
    "            \n",
    "        except Exception as err:\n",
    "            with self.out:\n",
    "                traceback.print_exc()\n",
    "            raise\n",
    "\n",
    "            \n",
    "    def on_click(self, event):\n",
    "        try:\n",
    "            if ax1 != event.inaxes:\n",
    "                with self.out:\n",
    "                    print(\"outside\")\n",
    "                return\n",
    "\n",
    "            pos = (event.ydata, event.xdata)\n",
    "\n",
    "            with self.out:\n",
    "                print(\"on_click\", pos)\n",
    "\n",
    "            self.next_patches(pos)\n",
    "            \n",
    "        except Exception as err:\n",
    "            with self.out:\n",
    "                traceback.print_exc()\n",
    "            raise\n",
    "\n",
    "            \n",
    "    def next_frame(self):\n",
    "        if self.cap.isOpened():  \n",
    "            ret, frame = self.cap.read() \n",
    "\n",
    "            if ret == True: \n",
    "                self.frame = frame\n",
    "                self.update_ax1()\n",
    "                return\n",
    "\n",
    "        with self.out:\n",
    "            print(\"No More Frames\")\n",
    "\n",
    "\n",
    "\n",
    "    def next_patches(self, pos):   \n",
    "        print(\"show_patches\")\n",
    "\n",
    "        res_frame = resize_frame(self.frame)\n",
    "        kp_grid = key_point_grid(self.orb, res_frame, self.stride)\n",
    "        print(\"len(kp_grid)\", len(kp_grid))\n",
    "\n",
    "        grid_offset_x = ((self.frame.shape[0] - 32) % self.stride)/2.0 + 16\n",
    "        grid_offset_y = ((self.frame.shape[1] - 32) % self.stride)/2.0 + 16\n",
    "        g_pos = (int(math.floor((pos[0]-grid_offset_x)/self.stride)), int(math.floor((pos[1]-grid_offset_y)/self.stride)))\n",
    "\n",
    "        print(\"g_pos\", g_pos)\n",
    "        path = []\n",
    "\n",
    "        for i in range(playback_random_walk_length):\n",
    "            g_pos, pos = next_pos_play(kp_grid, res_frame.shape, g_pos, self.stride)\n",
    "            print(\"g_pos, pos\", g_pos, pos)\n",
    "            if g_pos is None:\n",
    "                break\n",
    "            path.append(pos)\n",
    "\n",
    "        path = list(set(path))\n",
    "\n",
    "        windows = np.array([extract_window(res_frame, p, self.window_size) for p in path])\n",
    "\n",
    "        preprocess_input(windows)\n",
    "        features = self.model.predict(windows)\n",
    "        features = features.reshape((windows.shape[0], 512))\n",
    "        \n",
    "        print(\"windows.shape, feats.shape\", windows.shape, features.shape)\n",
    "\n",
    "        self.patches = self.build_patches(windows, features, path, self.frame.shape, self.memory_graph)\n",
    "        self.update_ax2()\n",
    "\n",
    "\n",
    "    def build_patches(self, path_windows, path_features, path_positions, frame_shape, memory_graph):\n",
    "        \n",
    "        video_file_name = split(self.video_path)[1]\n",
    "        \n",
    "        frame = np.zeros((frame_shape[0], frame_shape[1], 3), np.uint8)\n",
    "\n",
    "        paint_windows(path_positions, path_windows, frame, self.window_size, 0)\n",
    "\n",
    "        # features, feature_dis, community_dis, k=30\n",
    "        groups = list(memory_graph.search_group(path_features, .2, .2, 30))\n",
    "\n",
    "        print(\"groups\", groups)\n",
    "\n",
    "        for i in range(len(groups)):\n",
    "            group = list(groups[i])\n",
    "            \n",
    "            observation_ids = []\n",
    "            for node_id in group:\n",
    "                # print(\"node_id\", node_id)\n",
    "                integrated_observations = memory_graph.get_integrated_observations(node_id)\n",
    "                observation_ids.extend(integrated_observations)\n",
    "                predicted_observations = memory_graph.get_predicted_observations(node_id)\n",
    "                observation_ids.extend(predicted_observations)\n",
    "\n",
    "            windows = np.array([cv2.imread(self.patch_dir  + \"/\" + video_file_name + '/patch_'+str(observation_id)+'.png') for observation_id in observation_ids])\n",
    "\n",
    "            observations = memory_graph.get_observations(observation_ids)\n",
    "\n",
    "            positions = [(obs[\"y\"], obs[\"x\"]) for obs in observations]\n",
    "            \n",
    "            paint_windows(positions, windows, frame, self.window_size, i+1)\n",
    "        \n",
    "        return frame\n",
    "        \n",
    "\n",
    "    def update_ax1(self):\n",
    "        self.ax1.cla()\n",
    "        self.ax1.axis(\"off\")\n",
    "        self.ax1.imshow(cv2.cvtColor(self.frame, cv2.COLOR_BGR2RGB))\n",
    "        \n",
    "\n",
    "    def update_ax2(self):\n",
    "        self.ax2.cla()\n",
    "        self.ax2.axis(\"off\")\n",
    "        self.ax2.imshow(cv2.cvtColor(self.patches, cv2.COLOR_BGR2RGB))"
   ]
  },
  {
   "cell_type": "code",
   "execution_count": 7,
   "metadata": {},
   "outputs": [
    {
     "data": {
      "application/vnd.jupyter.widget-view+json": {
       "model_id": "bc490e7cd2594bb3b859e631ccce035a",
       "version_major": 2,
       "version_minor": 0
      },
      "text/plain": [
       "Canvas(toolbar=Toolbar(toolitems=[('Home', 'Reset original view', 'home', 'home'), ('Back', 'Back to previous …"
      ]
     },
     "metadata": {},
     "output_type": "display_data"
    },
    {
     "name": "stdout",
     "output_type": "stream",
     "text": [
      "MemoryGraph: loading nodes\n",
      "MemoryGraph: loading graph\n",
      "MemoryGraph: loaded 88462 nodes 121267 edges\n"
     ]
    },
    {
     "data": {
      "application/vnd.jupyter.widget-view+json": {
       "model_id": "3d189dc0f49f4edb898d1c3e6791508b",
       "version_major": 2,
       "version_minor": 0
      },
      "text/plain": [
       "Output()"
      ]
     },
     "metadata": {},
     "output_type": "display_data"
    }
   ],
   "source": [
    "out = widgets.Output()\n",
    "\n",
    "fig, (ax1, ax2) = plt.subplots(1, 2, figsize=(12,10), dpi= 100)\n",
    "\n",
    "browser = VideoPatchBrowser(video_path, db_path, patch_dir, out, ax1, ax2, stride=stride, window_size=window_size)\n",
    "\n",
    "fig.canvas.mpl_connect('button_release_event', browser.on_click)\n",
    "fig.canvas.mpl_connect('key_press_event', browser.on_press)\n",
    "\n",
    "fig.tight_layout()\n",
    "\n",
    "ax1.axis(\"off\")\n",
    "ax2.axis(\"off\")\n",
    "\n",
    "plt.show()\n",
    "\n",
    "display(out)"
   ]
  },
  {
   "cell_type": "code",
   "execution_count": null,
   "metadata": {},
   "outputs": [],
   "source": []
  }
 ],
 "metadata": {
  "kernelspec": {
   "display_name": "Python 3",
   "language": "python",
   "name": "python3"
  },
  "language_info": {
   "codemirror_mode": {
    "name": "ipython",
    "version": 3
   },
   "file_extension": ".py",
   "mimetype": "text/x-python",
   "name": "python",
   "nbconvert_exporter": "python",
   "pygments_lexer": "ipython3",
   "version": "3.8.5"
  }
 },
 "nbformat": 4,
 "nbformat_minor": 4
}
